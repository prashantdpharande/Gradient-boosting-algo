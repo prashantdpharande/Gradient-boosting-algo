{
 "cells": [
  {
   "cell_type": "code",
   "execution_count": 60,
   "id": "cc68ab95",
   "metadata": {},
   "outputs": [],
   "source": [
    "import pandas as pd\n",
    "import numpy as np\n",
    "from sklearn.ensemble import GradientBoostingClassifier\n",
    "\n",
    "from sklearn.model_selection import train_test_split\n",
    "\n",
    "from sklearn.metrics import accuracy_score,recall_score,precision_score,classification_report\n",
    "import warnings\n",
    "warnings.filterwarnings('ignore')\n",
    "\n",
    "from sklearn.model_selection import RandomizedSearchCV\n",
    "\n",
    "from sklearn.ensemble import AdaBoostClassifier"
   ]
  },
  {
   "cell_type": "code",
   "execution_count": 2,
   "id": "8844df03",
   "metadata": {},
   "outputs": [],
   "source": [
    "df=pd.read_csv('wine.csv')"
   ]
  },
  {
   "cell_type": "code",
   "execution_count": 3,
   "id": "c196ab79",
   "metadata": {},
   "outputs": [
    {
     "name": "stdout",
     "output_type": "stream",
     "text": [
      "<class 'pandas.core.frame.DataFrame'>\n",
      "RangeIndex: 1599 entries, 0 to 1598\n",
      "Data columns (total 12 columns):\n",
      " #   Column                Non-Null Count  Dtype  \n",
      "---  ------                --------------  -----  \n",
      " 0   fixed acidity         1599 non-null   float64\n",
      " 1   volatile acidity      1599 non-null   float64\n",
      " 2   citric acid           1599 non-null   float64\n",
      " 3   residual sugar        1599 non-null   float64\n",
      " 4   chlorides             1599 non-null   float64\n",
      " 5   free sulfur dioxide   1599 non-null   float64\n",
      " 6   total sulfur dioxide  1599 non-null   float64\n",
      " 7   density               1599 non-null   float64\n",
      " 8   pH                    1599 non-null   float64\n",
      " 9   sulphates             1599 non-null   float64\n",
      " 10  alcohol               1599 non-null   float64\n",
      " 11  quality               1599 non-null   int64  \n",
      "dtypes: float64(11), int64(1)\n",
      "memory usage: 150.0 KB\n"
     ]
    }
   ],
   "source": [
    "df.info()"
   ]
  },
  {
   "cell_type": "code",
   "execution_count": 4,
   "id": "640a8254",
   "metadata": {},
   "outputs": [],
   "source": [
    "x=df.drop('quality',axis=1)\n",
    "y=df['quality']"
   ]
  },
  {
   "cell_type": "code",
   "execution_count": 11,
   "id": "866d917f",
   "metadata": {},
   "outputs": [],
   "source": [
    "x_train,x_test,y_train,y_test=train_test_split(x,y,test_size=0.3,stratify=y,random_state=42)"
   ]
  },
  {
   "cell_type": "code",
   "execution_count": 15,
   "id": "923419ea",
   "metadata": {},
   "outputs": [
    {
     "data": {
      "text/plain": [
       "GradientBoostingClassifier()"
      ]
     },
     "execution_count": 15,
     "metadata": {},
     "output_type": "execute_result"
    }
   ],
   "source": [
    "model_GBC=GradientBoostingClassifier()\n",
    "model_GBC.fit(x_train,y_train)"
   ]
  },
  {
   "cell_type": "code",
   "execution_count": 20,
   "id": "356126db",
   "metadata": {},
   "outputs": [
    {
     "name": "stdout",
     "output_type": "stream",
     "text": [
      "Testing Data Evaluation of GradientBoostingClassifier\n",
      "accuracy_score1: 0.6291666666666667\n",
      "              precision    recall  f1-score   support\n",
      "\n",
      "           3       0.00      0.00      0.00         3\n",
      "           4       0.14      0.06      0.09        16\n",
      "           5       0.70      0.71      0.71       204\n",
      "           6       0.59      0.68      0.63       192\n",
      "           7       0.57      0.42      0.48        60\n",
      "           8       0.33      0.20      0.25         5\n",
      "\n",
      "    accuracy                           0.63       480\n",
      "   macro avg       0.39      0.34      0.36       480\n",
      "weighted avg       0.61      0.63      0.62       480\n",
      "\n",
      "xxxxxxxxxxxxxxxxxxxxxxxxxxxxxxxxxxxxxxxxxxxxxxxxxxxxxxxxxxxx\n",
      "Training Data Evaluation of GradientBoostingClassifier\n",
      "accuracy_score: 0.9142091152815014\n",
      "              precision    recall  f1-score   support\n",
      "\n",
      "           3       1.00      1.00      1.00         7\n",
      "           4       1.00      0.92      0.96        37\n",
      "           5       0.91      0.92      0.92       477\n",
      "           6       0.89      0.91      0.90       446\n",
      "           7       0.98      0.88      0.93       139\n",
      "           8       1.00      1.00      1.00        13\n",
      "\n",
      "    accuracy                           0.91      1119\n",
      "   macro avg       0.96      0.94      0.95      1119\n",
      "weighted avg       0.92      0.91      0.91      1119\n",
      "\n",
      "xxxxxxxxxxxxxxxxxxxxxxxxxxxxxxxxxxxxxxxxxxxxxxxxxxxxxxxxxxxx\n",
      "Bias=6.420911528150142\n",
      "Varience=28.504244861483475\n"
     ]
    }
   ],
   "source": [
    "y_predict_test=model_GBC.predict(x_test)\n",
    "\n",
    "accuracy_score1=accuracy_score(y_test,y_predict_test)\n",
    "classification_report1=classification_report(y_test,y_predict_test)\n",
    "\n",
    "print('Testing Data Evaluation of GradientBoostingClassifier')\n",
    "print(f'accuracy_score1: {accuracy_score1}')\n",
    "print(classification_report1)\n",
    "\n",
    "print('x'*60)\n",
    "\n",
    "y_predict_train=model_GBC.predict(x_train)\n",
    "\n",
    "accuracy_score2=accuracy_score(y_train,y_predict_train)\n",
    "classification_report2=classification_report(y_train,y_predict_train)\n",
    "\n",
    "print('Training Data Evaluation of GradientBoostingClassifier')\n",
    "print(f'accuracy_score: {accuracy_score2}')\n",
    "print(classification_report2)\n",
    "\n",
    "print('x'*60)\n",
    "print(f'Bias={abs(0.85-accuracy_score2)*100}')\n",
    "print(f'Varience={(accuracy_score2-accuracy_score1)*100}')\n"
   ]
  },
  {
   "cell_type": "code",
   "execution_count": 56,
   "id": "3fa1c8b5",
   "metadata": {},
   "outputs": [],
   "source": [
    "hyp={'learning_rate':[0.001],\n",
    "    'n_estimators':np.arange(50,100),\n",
    "    'min_samples_split':np.arange(2,20),\n",
    "    'min_samples_leaf':np.arange(1,20),\n",
    "    'max_depth':np.arange(2,20)\n",
    "    }"
   ]
  },
  {
   "cell_type": "code",
   "execution_count": 57,
   "id": "25dd4db1",
   "metadata": {
    "scrolled": true
   },
   "outputs": [
    {
     "data": {
      "text/plain": [
       "RandomizedSearchCV(cv=5, estimator=GradientBoostingClassifier(),\n",
       "                   param_distributions={'learning_rate': [0.001],\n",
       "                                        'max_depth': array([ 2,  3,  4,  5,  6,  7,  8,  9, 10, 11, 12, 13, 14, 15, 16, 17, 18,\n",
       "       19]),\n",
       "                                        'min_samples_leaf': array([ 1,  2,  3,  4,  5,  6,  7,  8,  9, 10, 11, 12, 13, 14, 15, 16, 17,\n",
       "       18, 19]),\n",
       "                                        'min_samples_split': array([ 2,  3,  4,  5,  6,  7,  8,  9, 10, 11, 12, 13, 14, 15, 16, 17, 18,\n",
       "       19]),\n",
       "                                        'n_estimators': array([50, 51, 52, 53, 54, 55, 56, 57, 58, 59, 60, 61, 62, 63, 64, 65, 66,\n",
       "       67, 68, 69, 70, 71, 72, 73, 74, 75, 76, 77, 78, 79, 80, 81, 82, 83,\n",
       "       84, 85, 86, 87, 88, 89, 90, 91, 92, 93, 94, 95, 96, 97, 98, 99])})"
      ]
     },
     "execution_count": 57,
     "metadata": {},
     "output_type": "execute_result"
    }
   ],
   "source": [
    "model_RSCV=RandomizedSearchCV(model_GBC,hyp,cv=5)\n",
    "model_RSCV.fit(x_train,y_train)"
   ]
  },
  {
   "cell_type": "code",
   "execution_count": 58,
   "id": "34843af7",
   "metadata": {},
   "outputs": [
    {
     "data": {
      "text/plain": [
       "GradientBoostingClassifier(learning_rate=0.001, max_depth=8,\n",
       "                           min_samples_leaf=14, min_samples_split=14,\n",
       "                           n_estimators=95)"
      ]
     },
     "execution_count": 58,
     "metadata": {},
     "output_type": "execute_result"
    }
   ],
   "source": [
    "model_RSCV.best_estimator_"
   ]
  },
  {
   "cell_type": "code",
   "execution_count": 59,
   "id": "265acd6f",
   "metadata": {},
   "outputs": [
    {
     "name": "stdout",
     "output_type": "stream",
     "text": [
      "Testing Data Evaluation of GradientBoostingClassifier\n",
      "accuracy_score1: 0.5416666666666666\n",
      "              precision    recall  f1-score   support\n",
      "\n",
      "           3       0.00      0.00      0.00         3\n",
      "           4       0.00      0.00      0.00        16\n",
      "           5       0.56      0.78      0.65       204\n",
      "           6       0.52      0.52      0.52       192\n",
      "           7       0.00      0.00      0.00        60\n",
      "           8       0.00      0.00      0.00         5\n",
      "\n",
      "    accuracy                           0.54       480\n",
      "   macro avg       0.18      0.22      0.20       480\n",
      "weighted avg       0.44      0.54      0.48       480\n",
      "\n",
      "xxxxxxxxxxxxxxxxxxxxxxxxxxxxxxxxxxxxxxxxxxxxxxxxxxxxxxxxxxxx\n",
      "Training Data Evaluation of GradientBoostingClassifier\n",
      "accuracy_score: 0.6675603217158177\n",
      "              precision    recall  f1-score   support\n",
      "\n",
      "           3       0.00      0.00      0.00         7\n",
      "           4       0.00      0.00      0.00        37\n",
      "           5       0.66      0.92      0.77       477\n",
      "           6       0.68      0.69      0.68       446\n",
      "           7       0.00      0.00      0.00       139\n",
      "           8       0.00      0.00      0.00        13\n",
      "\n",
      "    accuracy                           0.67      1119\n",
      "   macro avg       0.22      0.27      0.24      1119\n",
      "weighted avg       0.55      0.67      0.60      1119\n",
      "\n",
      "xxxxxxxxxxxxxxxxxxxxxxxxxxxxxxxxxxxxxxxxxxxxxxxxxxxxxxxxxxxx\n",
      "Bias=18.243967828418228\n",
      "Varience=12.589365504915106\n"
     ]
    }
   ],
   "source": [
    "y_predict_test=model_RSCV.predict(x_test)\n",
    "\n",
    "accuracy_score1=accuracy_score(y_test,y_predict_test)\n",
    "classification_report1=classification_report(y_test,y_predict_test)\n",
    "\n",
    "print('Testing Data Evaluation of GradientBoostingClassifier')\n",
    "print(f'accuracy_score1: {accuracy_score1}')\n",
    "print(classification_report1)\n",
    "\n",
    "print('x'*60)\n",
    "\n",
    "y_predict_train=model_RSCV.predict(x_train)\n",
    "\n",
    "accuracy_score2=accuracy_score(y_train,y_predict_train)\n",
    "classification_report2=classification_report(y_train,y_predict_train)\n",
    "\n",
    "print('Training Data Evaluation of GradientBoostingClassifier')\n",
    "print(f'accuracy_score: {accuracy_score2}')\n",
    "print(classification_report2)\n",
    "\n",
    "print('x'*60)\n",
    "print(f'Bias={abs(0.85-accuracy_score2)*100}')\n",
    "print(f'Varience={(accuracy_score2-accuracy_score1)*100}')\n"
   ]
  },
  {
   "cell_type": "markdown",
   "id": "29e0d8c5",
   "metadata": {},
   "source": [
    "# Ada- Boost"
   ]
  },
  {
   "cell_type": "code",
   "execution_count": 61,
   "id": "bad15179",
   "metadata": {},
   "outputs": [
    {
     "data": {
      "text/plain": [
       "AdaBoostClassifier()"
      ]
     },
     "execution_count": 61,
     "metadata": {},
     "output_type": "execute_result"
    }
   ],
   "source": [
    "model_AB=AdaBoostClassifier()\n",
    "model_AB.fit(x_train,y_train)"
   ]
  },
  {
   "cell_type": "code",
   "execution_count": 62,
   "id": "0c8db182",
   "metadata": {},
   "outputs": [
    {
     "name": "stdout",
     "output_type": "stream",
     "text": [
      "Testing Data Evaluation of AdaBoostClassifier\n",
      "accuracy_score1: 0.5354166666666667\n",
      "              precision    recall  f1-score   support\n",
      "\n",
      "           3       0.00      0.00      0.00         3\n",
      "           4       0.00      0.00      0.00        16\n",
      "           5       0.61      0.62      0.62       204\n",
      "           6       0.49      0.66      0.57       192\n",
      "           7       0.50      0.05      0.09        60\n",
      "           8       0.00      0.00      0.00         5\n",
      "\n",
      "    accuracy                           0.54       480\n",
      "   macro avg       0.27      0.22      0.21       480\n",
      "weighted avg       0.52      0.54      0.50       480\n",
      "\n",
      "xxxxxxxxxxxxxxxxxxxxxxxxxxxxxxxxxxxxxxxxxxxxxxxxxxxxxxxxxxxx\n",
      "Training Data Evaluation of AdaBoostClassifier\n",
      "accuracy_score: 0.5585344057193923\n",
      "              precision    recall  f1-score   support\n",
      "\n",
      "           3       0.00      0.00      0.00         7\n",
      "           4       0.00      0.00      0.00        37\n",
      "           5       0.67      0.64      0.65       477\n",
      "           6       0.50      0.70      0.58       446\n",
      "           7       0.41      0.09      0.14       139\n",
      "           8       0.00      0.00      0.00        13\n",
      "\n",
      "    accuracy                           0.56      1119\n",
      "   macro avg       0.26      0.24      0.23      1119\n",
      "weighted avg       0.54      0.56      0.53      1119\n",
      "\n",
      "xxxxxxxxxxxxxxxxxxxxxxxxxxxxxxxxxxxxxxxxxxxxxxxxxxxxxxxxxxxx\n",
      "Bias=29.14655942806077\n",
      "Varience=2.3117739052725628\n"
     ]
    }
   ],
   "source": [
    "y_predict_test=model_AB.predict(x_test)\n",
    "\n",
    "accuracy_score1=accuracy_score(y_test,y_predict_test)\n",
    "classification_report1=classification_report(y_test,y_predict_test)\n",
    "\n",
    "print('Testing Data Evaluation of AdaBoostClassifier')\n",
    "print(f'accuracy_score1: {accuracy_score1}')\n",
    "print(classification_report1)\n",
    "\n",
    "print('x'*60)\n",
    "\n",
    "y_predict_train=model_AB.predict(x_train)\n",
    "\n",
    "accuracy_score2=accuracy_score(y_train,y_predict_train)\n",
    "classification_report2=classification_report(y_train,y_predict_train)\n",
    "\n",
    "print('Training Data Evaluation of AdaBoostClassifier')\n",
    "print(f'accuracy_score: {accuracy_score2}')\n",
    "print(classification_report2)\n",
    "\n",
    "print('x'*60)\n",
    "print(f'Bias={abs(0.85-accuracy_score2)*100}')\n",
    "print(f'Varience={(accuracy_score2-accuracy_score1)*100}')\n"
   ]
  },
  {
   "cell_type": "code",
   "execution_count": 89,
   "id": "c4ea9e4f",
   "metadata": {},
   "outputs": [],
   "source": [
    "hyp1={\n",
    "    'n_estimators':np.arange(1,100),\n",
    "    'learning_rate':[0.1]\n",
    "    }"
   ]
  },
  {
   "cell_type": "code",
   "execution_count": 90,
   "id": "98cb9a41",
   "metadata": {},
   "outputs": [
    {
     "data": {
      "text/plain": [
       "RandomizedSearchCV(cv=5, estimator=AdaBoostClassifier(),\n",
       "                   param_distributions={'learning_rate': [0.1],\n",
       "                                        'n_estimators': array([ 1,  2,  3,  4,  5,  6,  7,  8,  9, 10, 11, 12, 13, 14, 15, 16, 17,\n",
       "       18, 19, 20, 21, 22, 23, 24, 25, 26, 27, 28, 29, 30, 31, 32, 33, 34,\n",
       "       35, 36, 37, 38, 39, 40, 41, 42, 43, 44, 45, 46, 47, 48, 49, 50, 51,\n",
       "       52, 53, 54, 55, 56, 57, 58, 59, 60, 61, 62, 63, 64, 65, 66, 67, 68,\n",
       "       69, 70, 71, 72, 73, 74, 75, 76, 77, 78, 79, 80, 81, 82, 83, 84, 85,\n",
       "       86, 87, 88, 89, 90, 91, 92, 93, 94, 95, 96, 97, 98, 99])})"
      ]
     },
     "execution_count": 90,
     "metadata": {},
     "output_type": "execute_result"
    }
   ],
   "source": [
    "model_RSCV_ADB=RandomizedSearchCV(model_AB,hyp1,cv=5)\n",
    "model_RSCV_ADB.fit(x_train,y_train)"
   ]
  },
  {
   "cell_type": "code",
   "execution_count": 91,
   "id": "cc65a6da",
   "metadata": {},
   "outputs": [
    {
     "data": {
      "text/plain": [
       "AdaBoostClassifier(learning_rate=0.1, n_estimators=72)"
      ]
     },
     "execution_count": 91,
     "metadata": {},
     "output_type": "execute_result"
    }
   ],
   "source": [
    "model_RSCV_ADB.best_estimator_"
   ]
  },
  {
   "cell_type": "code",
   "execution_count": 92,
   "id": "c646dcdc",
   "metadata": {},
   "outputs": [
    {
     "name": "stdout",
     "output_type": "stream",
     "text": [
      "Testing Data Evaluation of AdaBoostClassifier\n",
      "accuracy_score1: 0.5520833333333334\n",
      "              precision    recall  f1-score   support\n",
      "\n",
      "           3       0.00      0.00      0.00         3\n",
      "           4       0.00      0.00      0.00        16\n",
      "           5       0.62      0.68      0.65       204\n",
      "           6       0.50      0.65      0.56       192\n",
      "           7       0.33      0.03      0.06        60\n",
      "           8       0.00      0.00      0.00         5\n",
      "\n",
      "    accuracy                           0.55       480\n",
      "   macro avg       0.24      0.23      0.21       480\n",
      "weighted avg       0.50      0.55      0.51       480\n",
      "\n",
      "xxxxxxxxxxxxxxxxxxxxxxxxxxxxxxxxxxxxxxxxxxxxxxxxxxxxxxxxxxxx\n",
      "Training Data Evaluation of AdaBoostClassifier\n",
      "accuracy_score: 0.5719392314566577\n",
      "              precision    recall  f1-score   support\n",
      "\n",
      "           3       0.00      0.00      0.00         7\n",
      "           4       0.00      0.00      0.00        37\n",
      "           5       0.66      0.68      0.67       477\n",
      "           6       0.50      0.69      0.58       446\n",
      "           7       0.60      0.06      0.12       139\n",
      "           8       0.00      0.00      0.00        13\n",
      "\n",
      "    accuracy                           0.57      1119\n",
      "   macro avg       0.29      0.24      0.23      1119\n",
      "weighted avg       0.56      0.57      0.53      1119\n",
      "\n",
      "xxxxxxxxxxxxxxxxxxxxxxxxxxxxxxxxxxxxxxxxxxxxxxxxxxxxxxxxxxxx\n",
      "Bias=27.80607685433423\n",
      "Varience=1.9855898123324334\n"
     ]
    }
   ],
   "source": [
    "y_predict_test=model_RSCV_ADB.predict(x_test)\n",
    "\n",
    "accuracy_score1=accuracy_score(y_test,y_predict_test)\n",
    "classification_report1=classification_report(y_test,y_predict_test)\n",
    "\n",
    "print('Testing Data Evaluation of AdaBoostClassifier')\n",
    "print(f'accuracy_score1: {accuracy_score1}')\n",
    "print(classification_report1)\n",
    "\n",
    "print('x'*60)\n",
    "\n",
    "y_predict_train=model_RSCV_ADB.predict(x_train)\n",
    "\n",
    "accuracy_score2=accuracy_score(y_train,y_predict_train)\n",
    "classification_report2=classification_report(y_train,y_predict_train)\n",
    "\n",
    "print('Training Data Evaluation of AdaBoostClassifier')\n",
    "print(f'accuracy_score: {accuracy_score2}')\n",
    "print(classification_report2)\n",
    "\n",
    "print('x'*60)\n",
    "print(f'Bias={abs(0.85-accuracy_score2)*100}')\n",
    "print(f'Varience={(accuracy_score2-accuracy_score1)*100}')\n"
   ]
  },
  {
   "cell_type": "code",
   "execution_count": null,
   "id": "eee9bbc7",
   "metadata": {},
   "outputs": [],
   "source": []
  },
  {
   "cell_type": "code",
   "execution_count": null,
   "id": "8b7c15c6",
   "metadata": {},
   "outputs": [],
   "source": []
  },
  {
   "cell_type": "code",
   "execution_count": null,
   "id": "c866bc0a",
   "metadata": {},
   "outputs": [],
   "source": []
  },
  {
   "cell_type": "code",
   "execution_count": null,
   "id": "89b1dc95",
   "metadata": {},
   "outputs": [],
   "source": []
  },
  {
   "cell_type": "code",
   "execution_count": null,
   "id": "cd90faa2",
   "metadata": {},
   "outputs": [],
   "source": []
  },
  {
   "cell_type": "code",
   "execution_count": null,
   "id": "2074db6e",
   "metadata": {},
   "outputs": [],
   "source": []
  },
  {
   "cell_type": "code",
   "execution_count": null,
   "id": "36c0d632",
   "metadata": {},
   "outputs": [],
   "source": []
  },
  {
   "cell_type": "code",
   "execution_count": null,
   "id": "447bcf83",
   "metadata": {},
   "outputs": [],
   "source": []
  },
  {
   "cell_type": "code",
   "execution_count": null,
   "id": "c23c10c0",
   "metadata": {},
   "outputs": [],
   "source": []
  },
  {
   "cell_type": "code",
   "execution_count": null,
   "id": "c335b02f",
   "metadata": {},
   "outputs": [],
   "source": []
  },
  {
   "cell_type": "code",
   "execution_count": null,
   "id": "d70d772e",
   "metadata": {},
   "outputs": [],
   "source": []
  }
 ],
 "metadata": {
  "kernelspec": {
   "display_name": "Python 3 (ipykernel)",
   "language": "python",
   "name": "python3"
  },
  "language_info": {
   "codemirror_mode": {
    "name": "ipython",
    "version": 3
   },
   "file_extension": ".py",
   "mimetype": "text/x-python",
   "name": "python",
   "nbconvert_exporter": "python",
   "pygments_lexer": "ipython3",
   "version": "3.9.7"
  }
 },
 "nbformat": 4,
 "nbformat_minor": 5
}
